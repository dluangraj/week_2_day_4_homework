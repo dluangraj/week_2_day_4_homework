{
 "cells": [
  {
   "cell_type": "markdown",
   "metadata": {},
   "source": [
    "# User-Defined Functions & Scoping"
   ]
  },
  {
   "cell_type": "markdown",
   "metadata": {},
   "source": [
    "## Tasks Today:\n",
    "\n",
    "\n",
    "1) Functions <br>\n",
    " &nbsp;&nbsp;&nbsp;&nbsp; a) User-Defined vs. Built-In Functions <br>\n",
    " &nbsp;&nbsp;&nbsp;&nbsp; b) Accepting Parameters <br>\n",
    " &nbsp;&nbsp;&nbsp;&nbsp; c) Default Parameters <br>\n",
    " &nbsp;&nbsp;&nbsp;&nbsp; d) Making an Argument Optional <br>\n",
    " &nbsp;&nbsp;&nbsp;&nbsp; e) Keyword Arguments <br>\n",
    " &nbsp;&nbsp;&nbsp;&nbsp; f) Returning Values <br>\n",
    " &nbsp;&nbsp;&nbsp;&nbsp; g) *args <br>\n",
    " &nbsp;&nbsp;&nbsp;&nbsp; h) Docstring <br>\n",
    " &nbsp;&nbsp;&nbsp;&nbsp; i) Using a User Function in a Loop <br>\n",
    "2) Scope <br>\n",
    "3) Creating more User-Defined functions <br>\n",
    "4) Decorators <br>"
   ]
  },
  {
   "cell_type": "markdown",
   "metadata": {},
   "source": [
    "\n",
    "## Functions"
   ]
  },
  {
   "cell_type": "markdown",
   "metadata": {},
   "source": [
    "##### User-Defined vs. Built-In Functions"
   ]
  },
  {
   "cell_type": "code",
   "execution_count": 2,
   "metadata": {},
   "outputs": [
    {
     "name": "stdout",
     "output_type": "stream",
     "text": [
      "Hello\n"
     ]
    }
   ],
   "source": [
    "#built-in function\n",
    "print(\"Hello\")\n",
    "\n",
    "#user-defined function\n",
    "def say_hello():\n",
    "    return \"Hello World\"\n",
    "\n",
    "#show the function in memory\n",
    "print(say_hello)\n",
    "\n",
    "print(say_hello())"
   ]
  },
  {
   "cell_type": "markdown",
   "metadata": {},
   "source": [
    "##### Accepting Parameters"
   ]
  },
  {
   "cell_type": "code",
   "execution_count": 3,
   "metadata": {
    "scrolled": true
   },
   "outputs": [
    {
     "name": "stdout",
     "output_type": "stream",
     "text": [
      "Hello my full name is Dennis Luangraj.\n"
     ]
    }
   ],
   "source": [
    "#order matters\n",
    "#a variable (parameter) can be any type of object\n",
    "\n",
    "first = \"Dennis\"\n",
    "last = \"Luangraj\"\n",
    "\n",
    "def print_full_name(first_name, last_name):\n",
    "    return f\"Hello my full name is {first_name} {last_name}.\"\n",
    "\n",
    "print(print_full_name(first, last))"
   ]
  },
  {
   "cell_type": "markdown",
   "metadata": {},
   "source": [
    "##### Default Parameters"
   ]
  },
  {
   "cell_type": "code",
   "execution_count": 6,
   "metadata": {},
   "outputs": [
    {
     "ename": "SyntaxError",
     "evalue": "non-default argument follows default argument (Temp/ipykernel_42964/1433418859.py, line 8)",
     "output_type": "error",
     "traceback": [
      "\u001b[1;36m  File \u001b[1;32m\"C:\\Users\\ADMINI~1\\AppData\\Local\\Temp/ipykernel_42964/1433418859.py\"\u001b[1;36m, line \u001b[1;32m8\u001b[0m\n\u001b[1;33m    def agent_name_again(last_name = \"Bond\", first_name):\u001b[0m\n\u001b[1;37m                                                       ^\u001b[0m\n\u001b[1;31mSyntaxError\u001b[0m\u001b[1;31m:\u001b[0m non-default argument follows default argument\n"
     ]
    }
   ],
   "source": [
    "#default parameters must come after non-default parameters at all times\n",
    "def agent_name(first_name, last_name= \"Bond\"):\n",
    "    return f\"The name is {last_name}... {first_name} {last_name}.\"\n",
    "\n",
    "print(agent_name(\"James\"))\n",
    "\n",
    "#dont do this\n",
    "# def agent_name_again(last_name = \"Bond\", first_name):\n",
    "#     return f\"The name is {last_name}... {first_name} {last_name}.\"\n",
    "\n",
    "# print(agent_name_again(\"Jimbo\"))"
   ]
  },
  {
   "cell_type": "code",
   "execution_count": 7,
   "metadata": {},
   "outputs": [
    {
     "name": "stdout",
     "output_type": "stream",
     "text": [
      "Your birthday is the 24th day of March and you were born in 1960!\n"
     ]
    }
   ],
   "source": [
    "def march_bday(day, year, month = \"March\"):\n",
    "    return f\"Your birthday is the {day}th day of {month} and you were born in {year}!\"\n",
    "\n",
    "print(march_bday(24, 1960))"
   ]
  },
  {
   "cell_type": "markdown",
   "metadata": {},
   "source": [
    "##### Making an Argument Optional"
   ]
  },
  {
   "cell_type": "code",
   "execution_count": 8,
   "metadata": {},
   "outputs": [
    {
     "name": "stdout",
     "output_type": "stream",
     "text": [
      "Hello Mr.  Ed\n",
      "Hello Sea Biscut Ed\n"
     ]
    }
   ],
   "source": [
    "def horse_name(first, middle=\"\", last=\"Ed\"):\n",
    "    return f\"Hello {first} {middle} {last}\"\n",
    "print(horse_name(\"Mr.\"))\n",
    "print(horse_name(\"Sea\", \"Biscut\"))\n"
   ]
  },
  {
   "cell_type": "markdown",
   "metadata": {},
   "source": [
    "##### Keyword Arguments"
   ]
  },
  {
   "cell_type": "code",
   "execution_count": 9,
   "metadata": {},
   "outputs": [
    {
     "name": "stdout",
     "output_type": "stream",
     "text": [
      "Bruce's power is money.\n"
     ]
    }
   ],
   "source": [
    "# you can access an argument by it's keyword out of the original order\n",
    "def hero(name, power = \"flying\"):\n",
    "    return f\"{name}'s power is {power}.\"\n",
    "\n",
    "print(hero(power=\"money\", name=\"Bruce\"))"
   ]
  },
  {
   "cell_type": "code",
   "execution_count": null,
   "metadata": {},
   "outputs": [],
   "source": [
    "#Create a function that accepts"
   ]
  },
  {
   "cell_type": "code",
   "execution_count": 10,
   "metadata": {},
   "outputs": [
    {
     "name": "stdout",
     "output_type": "stream",
     "text": [
      "HarryPotter to the dungeon\n"
     ]
    }
   ],
   "source": [
    "def to_the_dungeon(last_name, first_name=\"\", location=\"dungeon\"):\n",
    "    return f\"{first_name} {last_name} to the {location}\"\n",
    "\n",
    "print(to_the_dungeon(\"Potter\", \"Harry\"))"
   ]
  },
  {
   "cell_type": "markdown",
   "metadata": {},
   "source": [
    "# Creating a start, stop, step function"
   ]
  },
  {
   "cell_type": "code",
   "execution_count": 11,
   "metadata": {},
   "outputs": [
    {
     "name": "stdout",
     "output_type": "stream",
     "text": [
      "2\n",
      "5\n",
      "8\n",
      "11\n"
     ]
    }
   ],
   "source": [
    "def my_range(stop, start=0, step=1):\n",
    "    for i in range(start, stop, step):\n",
    "        print(i)\n",
    "\n",
    "my_range(13, 2, 3)"
   ]
  },
  {
   "cell_type": "markdown",
   "metadata": {},
   "source": [
    "##### Returning Values"
   ]
  },
  {
   "cell_type": "code",
   "execution_count": 12,
   "metadata": {},
   "outputs": [
    {
     "data": {
      "text/plain": [
       "100"
      ]
     },
     "execution_count": 12,
     "metadata": {},
     "output_type": "execute_result"
    }
   ],
   "source": [
    "def add_nums(num1, num2):\n",
    "    return num1 + num2\n",
    "\n",
    "add_nums(56,44)"
   ]
  },
  {
   "cell_type": "markdown",
   "metadata": {},
   "source": [
    "##### *args / **kwargs (keyword arguments)"
   ]
  },
  {
   "cell_type": "code",
   "execution_count": 13,
   "metadata": {},
   "outputs": [
    {
     "name": "stdout",
     "output_type": "stream",
     "text": [
      "1\n",
      "(10, 'megazord')\n",
      "{'trekies': ['Warf', 'Data'], 'subject': 'Python'}\n"
     ]
    }
   ],
   "source": [
    "def pirates(num1, *args, **kwargs):\n",
    "    print(num1)\n",
    "    print(args)\n",
    "    print(kwargs)\n",
    "\n",
    "pirates(1,10, \"megazord\", trekies = [\"Warf\", \"Data\"], subject = \"Python\")\n"
   ]
  },
  {
   "cell_type": "code",
   "execution_count": 14,
   "metadata": {},
   "outputs": [
    {
     "name": "stdout",
     "output_type": "stream",
     "text": [
      "Pallet\n",
      "('Viridian', 'Pewter', 'Cerulean')\n",
      "{'ash': ['Boulder', 'Cascade'], 'brock': 'Pewter'}\n"
     ]
    }
   ],
   "source": [
    "#Write a function that accepts args and kwards and print out each arg and kwarg on its own line.\n",
    "def pokemon(starter_town, *gym_cities, **trainers):\n",
    "    print(starter_town)\n",
    "    print(gym_cities)\n",
    "    print(trainers)\n",
    "\n",
    "pokemon(\"Pallet\", \"Viridian\", \"Pewter\", \"Cerulean\", ash = [\"Boulder\", \"Cascade\"], brock = \"Pewter\")"
   ]
  },
  {
   "cell_type": "markdown",
   "metadata": {},
   "source": [
    "##### Docstring"
   ]
  },
  {
   "cell_type": "code",
   "execution_count": 16,
   "metadata": {},
   "outputs": [
    {
     "name": "stdout",
     "output_type": "stream",
     "text": [
      "Sylvester\n",
      "Tweety\n"
     ]
    }
   ],
   "source": [
    "def print_names(list_1):\n",
    "    \"\"\"\n",
    "        print_names(list_1)\n",
    "        Function requires a list to be passed as a parameter\n",
    "        and will print the contents of the list. Expecting \n",
    "        a list of names(strings to be passed.\n",
    "    \"\"\"\n",
    "    for name in list_1:\n",
    "        print(name)\n",
    "\n",
    "print_names([\"Sylvester\", \"Tweety\"])"
   ]
  },
  {
   "cell_type": "markdown",
   "metadata": {},
   "source": [
    "##### Using a User Function in a Loop"
   ]
  },
  {
   "cell_type": "code",
   "execution_count": null,
   "metadata": {},
   "outputs": [],
   "source": [
    "def print_input(answer):\n",
    "    print(f\"your answer is: {answer}\")\n",
    "\n",
    "while True:\n",
    "    ask = input(\"What do you want to do? \")\n",
    "\n",
    "    print_input(ask)\n",
    "\n",
    "    response = input(\"Ready to quit?\")\n",
    "    if response.lower() == \"yes\":\n",
    "        break"
   ]
  },
  {
   "cell_type": "markdown",
   "metadata": {},
   "source": [
    "## Function Exercises <br>\n",
    "### Exercise 1\n",
    "<p>Write a function that loops through a list of first_names and a list of last_names, combines the two and return a list of full_names</p>"
   ]
  },
  {
   "cell_type": "code",
   "execution_count": 23,
   "metadata": {},
   "outputs": [
    {
     "name": "stdout",
     "output_type": "stream",
     "text": [
      "['John', 'Evan', 'Jordan', 'Smith', 'Max']\n",
      "['John', 'Evan', 'Jordan', 'Smith', 'Smith', 'Max']\n",
      "['John', 'Evan', 'Jordan', 'Williams', 'Smith', 'Smith', 'Max']\n",
      "['John', 'Evan', 'Jordan', 'Bell', 'Williams', 'Smith', 'Smith', 'Max']\n"
     ]
    }
   ],
   "source": [
    "first_name = ['John', 'Evan', 'Jordan', 'Max']\n",
    "last_name = ['Smith', 'Smith', 'Williams', 'Bell']\n",
    "\n",
    "# Output: ['John Smith', 'Evan Smith', 'Jordan Williams', 'Max Bell']\n",
    "\n",
    "# def full_name():\n",
    "#     for name in last_name:\n",
    "#         first_name.insert(3, name)\n",
    "#         print(first_name)\n",
    "\n",
    "# full_name()\n",
    "\n",
    "def full_name(first_name, last_name):\n",
    "    list_of_names = []\n",
    "    for i in range(len(first_name)):\n",
    "        full_name = first_name[i] + \" \" + last_name[i]\n",
    "        list_of_names.append(full_name)\n",
    "    print(list_of_names)\n",
    "\n",
    "[first_name[i]+\" \"+ last_name[i] for i in range(len(first_name))]\n"
   ]
  },
  {
   "cell_type": "markdown",
   "metadata": {},
   "source": [
    "### Exercise 2\n",
    "Create a function that alters all values in the given list by subtracting 5 and then doubling them."
   ]
  },
  {
   "cell_type": "code",
   "execution_count": null,
   "metadata": {},
   "outputs": [],
   "source": [
    "input_list = [5,10,15,20,3]\n",
    "# output = [0,10,20,30,-4]\n",
    "\n",
    "def func(input_1ist):\n",
    "    return [(x-5* for x in input_list)]\n",
    "\n"
   ]
  },
  {
   "cell_type": "code",
   "execution_count": 25,
   "metadata": {},
   "outputs": [
    {
     "data": {
      "text/plain": [
       "[0, 10, 20, 30, -4]"
      ]
     },
     "execution_count": 25,
     "metadata": {},
     "output_type": "execute_result"
    }
   ],
   "source": [
    "#Create a function that alters all values in the given list with a second function taken a parameter\n",
    "input_list = [5, 10, 15, 20, 3]\n",
    "\n",
    "def func2(value):\n",
    "    return (value-5)* 2\n",
    "\n",
    "def list_item_add(a_list, function):\n",
    "    return [function(x) for x in a_list]\n",
    "\n",
    "list_item_add(input_list, func2)"
   ]
  },
  {
   "cell_type": "markdown",
   "metadata": {},
   "source": [
    "### Exercise 3\n",
    "Create a function that takes in a list of strings and filters out the strings that DO NOT contain vowels. "
   ]
  },
  {
   "cell_type": "code",
   "execution_count": 30,
   "metadata": {},
   "outputs": [],
   "source": [
    "string_list = ['Sheldon','Pnny','Leonard','Hwrd','Rj','Amy','Strt']\n",
    "# output = ['Sheldon','Leonard','Amy']\n",
    "\n",
    "# def has_vowels(string):\n",
    "#     if \"a\" and \"A\" in string:\n",
    "        \n",
    "#     elif \"e\" and \"E\" in string:\n",
    "#         continue\n",
    "#     elif \"i\" or \"I\" in string:\n",
    "#         continue\n",
    "#     elif \"o\" or \"O\" in string:\n",
    "#         continue\n",
    "#     elif \"u\" or \"U\" in string:\n",
    "#         continue\n",
    "#     else:\n",
    "#         continue\n",
    "          \n",
    "# def filter_strings(a_list, function):\n",
    "#     return [function(x) for x in a_list]\n",
    "\n",
    "\n",
    "# filter_strings(string_list, has_vowels)\n",
    "\n",
    "def vowels_only(a_list):\n",
    "    new_list = []\n",
    "    for i in a_list:\n",
    "        i = i.lower()\n",
    "        if \"a\" in i or \"e\" in i or \"i\" in i or \"o\" in i or \"u\" in i:\n",
    "            new_list.append(i.title())\n",
    "\n",
    "vowels_only(string_list)"
   ]
  },
  {
   "cell_type": "markdown",
   "metadata": {},
   "source": [
    "### Exercise 4\n",
    "Create a function that accepts a list as a parameter and returns a dictionary containing the list items as it's keys, and the number of times they appear in the list as the values"
   ]
  },
  {
   "cell_type": "code",
   "execution_count": 7,
   "metadata": {},
   "outputs": [
    {
     "name": "stdout",
     "output_type": "stream",
     "text": [
      "{'Hermione': 2, 'Harry': 3, 'Draco': 1, 'Ron': 4, 'Dobby': 1, 'Luna': 1}\n"
     ]
    }
   ],
   "source": [
    "example_list = [\"Harry\", 'Hermione','Harry','Ron','Dobby','Draco','Luna','Harry','Hermione','Ron','Ron','Ron']\n",
    "\n",
    "# output = {\n",
    "#     \"Harry\":3,\n",
    "#     \"Hermione\":2,\n",
    "#     \"Ron\":4,\n",
    "#     \"Dobby\":1,\n",
    "#     \"Draco\":1,\n",
    "#     \"Luna\": 1\n",
    "# }\n",
    "\n",
    "# def char_multiples(list):\n",
    "#     new_list = {}\n",
    "#     for name in example_list:\n",
    "#         new_list[name] += 1\n",
    "#         new_list[name] = count\n",
    "\n",
    "# char_multiples(example_list)\n",
    "\n",
    "def counter(example_list):\n",
    "    return {i : example_list.count(i) for i in set(example_list)}\n",
    "\n",
    "print(counter(example_list))\n",
    "\n"
   ]
  },
  {
   "cell_type": "markdown",
   "metadata": {},
   "source": [
    "\n",
    "\n",
    "## Scope <br>\n",
    "<p>Scope refers to the ability to access variables, different types of scope include:<br>a) Global<br>b) Function (local)<br>c) Class (local)</p>"
   ]
  },
  {
   "cell_type": "code",
   "execution_count": 117,
   "metadata": {},
   "outputs": [
    {
     "name": "stdout",
     "output_type": "stream",
     "text": [
      "3\n",
      "6\n"
     ]
    }
   ],
   "source": [
    "# placement of variable declaration matters\n",
    "\n",
    "number = 3 # Gloal Variable\n",
    "\n",
    "def myFunc():\n",
    "    num_3 = 6 # Local Function Variable\n",
    "    return num_3\n",
    "\n",
    "print(number)\n",
    "return_num = myFunc()\n",
    "print(return_num)"
   ]
  },
  {
   "cell_type": "code",
   "execution_count": 8,
   "metadata": {},
   "outputs": [
    {
     "name": "stdout",
     "output_type": "stream",
     "text": [
      "<function outer_func.<locals>.inner_func at 0x000002ABA1836B80>\n"
     ]
    }
   ],
   "source": [
    "def outer_func(text):\n",
    "\n",
    "    def inner_func():\n",
    "        return f\"inner_func with added {text}\"\n",
    "    return inner_func\n",
    "\n",
    "var = outer_func(\"message\")\n",
    "print(var)"
   ]
  },
  {
   "cell_type": "markdown",
   "metadata": {},
   "source": [
    "####Decorators\n",
    "\n",
    "<p>A decorator in Python is a function that takes another function as its argument, and returns yet another function . Decorators can be extremely useful as they allow the extension of an existing function, without any modification to the original function source code.\n",
    "</p>"
   ]
  },
  {
   "cell_type": "code",
   "execution_count": 10,
   "metadata": {},
   "outputs": [
    {
     "data": {
      "text/plain": [
       "'HELLO FROM THE RANGERS'"
      ]
     },
     "execution_count": 10,
     "metadata": {},
     "output_type": "execute_result"
    }
   ],
   "source": [
    "def print_hello():\n",
    "    return \"Hello from the Rangers\"\n",
    "\n",
    "def uppercase_decorator(function):\n",
    "    def wrapper():\n",
    "        func = function()\n",
    "        make_uppercase = func.upper()\n",
    "        return make_uppercase\n",
    "\n",
    "    return wrapper\n",
    "\n",
    "returned_func = uppercase_decorator(print_hello)\n",
    "\n",
    "returned_func()"
   ]
  },
  {
   "cell_type": "code",
   "execution_count": 11,
   "metadata": {},
   "outputs": [
    {
     "data": {
      "text/plain": [
       "'HELLO THERE.'"
      ]
     },
     "execution_count": 11,
     "metadata": {},
     "output_type": "execute_result"
    }
   ],
   "source": [
    "#Python Decorator Syntax\n",
    "@uppercase_decorator\n",
    "\n",
    "def say_hello():\n",
    "    return \"Hello there.\"\n",
    "\n",
    "say_hello()"
   ]
  },
  {
   "cell_type": "markdown",
   "metadata": {},
   "source": [
    "# Homework Exercises"
   ]
  },
  {
   "cell_type": "markdown",
   "metadata": {},
   "source": [
    "## Exercise 1 <br>\n",
    "<p>Given a list as a parameter,write a function that returns a list of numbers that are less than ten</b></i></p><br>\n",
    "<p> For example: Say your input parameter to the function is [1,11,14,5,8,9]...Your output should [1,5,8,9]</p>"
   ]
  },
  {
   "cell_type": "code",
   "execution_count": 14,
   "metadata": {},
   "outputs": [
    {
     "name": "stdout",
     "output_type": "stream",
     "text": [
      "[1, 5, 8, 9]\n"
     ]
    }
   ],
   "source": [
    "# Use the following list - [1,11,14,5,8,9]\n",
    "\n",
    "l_1 = [1,11,14,5,8,9]\n",
    "\n",
    "def less_than_ten(a_list):\n",
    "    new_list = []\n",
    "    for x in a_list:\n",
    "        if x < 10:\n",
    "            new_list.append(x)\n",
    "    print(new_list)\n",
    "    \n",
    "less_than_ten(l_1)\n",
    "    \n"
   ]
  },
  {
   "cell_type": "markdown",
   "metadata": {},
   "source": [
    "## Exercise 2 <br>\n",
    "<p>Write a function that takes in two lists and returns the two lists merged together and sorted<br>\n",
    "<b><i>Hint: You can use the .sort() method</i></b></p>"
   ]
  },
  {
   "cell_type": "code",
   "execution_count": 25,
   "metadata": {},
   "outputs": [
    {
     "name": "stdout",
     "output_type": "stream",
     "text": [
      "[1, 2, 3, 3, 4, 4, 5, 5, 6, 6, 7, 8, 10]\n"
     ]
    }
   ],
   "source": [
    "l_1 = [1,2,3,4,5,6]\n",
    "l_2 = [3,4,5,6,7,8,10]\n",
    "\n",
    "def combined_lists(list_1, list_2):\n",
    "    list_3 = sorted(list_1+list_2)\n",
    "    print(list_3)\n",
    "\n",
    "\n",
    "combined_lists(l_1, l_2)\n"
   ]
  },
  {
   "cell_type": "code",
   "execution_count": 2,
   "metadata": {},
   "outputs": [
    {
     "name": "stdout",
     "output_type": "stream",
     "text": [
      "7\n"
     ]
    }
   ],
   "source": [
    "# Q1: Create a function that returns the sum of the two lowest positive numbers given an array of minimum 4 positive integers. No floats or non-positive integers will be passed.\n",
    "\n",
    "\n",
    "example = [19, 5, 42, 2, 77]\n",
    "#output = 7\n",
    "\n",
    "def two_low_sum(a_list):\n",
    "    sorted_list = sorted(a_list)\n",
    "    lowest = sorted_list[0]\n",
    "    second_lowest = sorted_list[1]\n",
    "    sum = lowest + second_lowest\n",
    "    print(sum)\n",
    "\n",
    "two_low_sum(example)\n"
   ]
  },
  {
   "cell_type": "code",
   "execution_count": 9,
   "metadata": {},
   "outputs": [
    {
     "name": "stdout",
     "output_type": "stream",
     "text": [
      "[10, -65]\n"
     ]
    }
   ],
   "source": [
    "# Q2: Given an array of integers.Return an array, where the first element is the count of positives numbers and the second element is sum of negative numbers. 0 is neither positive nor negative.\n",
    "\n",
    "# If the input array is empty or null, return an empty array.\n",
    "\n",
    "\n",
    "example_input = [1, 2, 3, 4, 5, 6, 7, 8, 9, 10, -11, -12, -13, -14, -15]\n",
    "# output  = [10,-65]\n",
    "\n",
    "def integer_counts(array):\n",
    "    positive_array = []\n",
    "    negative_array = []\n",
    "    for digit in array:\n",
    "        if digit > 0:\n",
    "            positive_array.append(digit)\n",
    "        elif digit < 0:\n",
    "            negative_array.append(digit)\n",
    "        else:\n",
    "            return []\n",
    "    positive_count = len(positive_array)\n",
    "    negative_sum = sum(negative_array)\n",
    "    output = [positive_count, negative_sum]\n",
    "    print(output)\n",
    "   \n",
    "integer_counts(example_input)\n",
    "\n",
    "    \n",
    "\n"
   ]
  }
 ],
 "metadata": {
  "kernelspec": {
   "display_name": "Python 3",
   "language": "python",
   "name": "python3"
  },
  "language_info": {
   "codemirror_mode": {
    "name": "ipython",
    "version": 3
   },
   "file_extension": ".py",
   "mimetype": "text/x-python",
   "name": "python",
   "nbconvert_exporter": "python",
   "pygments_lexer": "ipython3",
   "version": "3.9.7"
  }
 },
 "nbformat": 4,
 "nbformat_minor": 2
}
